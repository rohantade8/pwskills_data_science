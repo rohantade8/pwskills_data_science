{
  "nbformat": 4,
  "nbformat_minor": 0,
  "metadata": {
    "colab": {
      "provenance": []
    },
    "kernelspec": {
      "name": "python3",
      "display_name": "Python 3"
    },
    "language_info": {
      "name": "python"
    }
  },
  "cells": [
    {
      "cell_type": "markdown",
      "source": [
        "#**1. Which Azure Virtual Machine feature staggers updates across VMs based on their update domain and fault domain?**\n",
        "**"
      ],
      "metadata": {
        "id": "8LFa_G-_MLg-"
      }
    },
    {
      "cell_type": "markdown",
      "source": [
        "\n",
        "Certainly! In simpler terms, the Probability Density Function (PDF) is a way to describe the likelihood of a continuous random variable taking on different values. It's like a curve that shows how probable different values are. The curve has some important characteristics:\n",
        "\n",
        "Non-negative: The curve is always above or on the x-axis, meaning the probabilities are never negative.\n",
        "Total area: The total area under the curve is always equal to 1, which represents the entire range of possible values for the variable.\n",
        "Different shapes of the PDF curve correspond to different patterns of likelihood for the variable's values. This is very useful in statistics for understanding and making predictions about data that follows continuous distributions."
      ],
      "metadata": {
        "id": "vfS1f5tfMdzc"
      }
    },
    {
      "cell_type": "markdown",
      "source": [
        "# **Q2. What are the types of Probability distribution?**"
      ],
      "metadata": {
        "id": "LQ7Jg2dgM0yu"
      }
    },
    {
      "cell_type": "markdown",
      "source": [
        "\n",
        "There are two main types of probability distributions: discrete and continuous.\n",
        "\n",
        "Discrete probability distributions are those in which the random variable can only take on a finite number of values. For example, the number of heads in 3 coin flips is a discrete random variable, and it can only take on the values 0, 1, 2, or 3.\n",
        "Continuous probability distributions are those in which the random variable can take on any value within a certain range. For example, the height of a person is a continuous random variable, and it can take on any value between the minimum and maximum possible heights.\n",
        "Here are some of the most common types of probability distributions:\n",
        "\n",
        "Binomial distribution is a discrete probability distribution that describes the number of successes in a fixed number of trials, where each trial has only two possible outcomes, such as \"success\" or \"failure.\"\n",
        "Poisson distribution is a discrete probability distribution that describes the number of events that occur in a fixed interval of time or space, where the events occur independently and at a constant rate.\n",
        "Normal distribution is a continuous probability distribution that is bell-shaped and symmetrical. It is often used to model data that is normally distributed, such as heights, weights, and test scores.\n",
        "Uniform distribution is a continuous probability distribution that describes the values of a random variable that are equally likely to occur within a given range.\n",
        "Exponential distribution is a continuous probability distribution that describes the time it takes for an event to occur, such as the time it takes for a radioactive atom to decay.\n",
        "These are just a few of the many different types of probability distributions that are used in statistics and probability. The type of distribution that is most appropriate for a particular problem will depend on the specific characteristics of the data that is being analyzed."
      ],
      "metadata": {
        "id": "V3t27xEvM3WK"
      }
    },
    {
      "cell_type": "markdown",
      "source": [
        "# **Q3. Write a Python function to calculate the probability density function of a normal distribution with given mean and standard deviation at a given point.**"
      ],
      "metadata": {
        "id": "JPJRG07hNtDH"
      }
    },
    {
      "cell_type": "code",
      "source": [
        "import math\n",
        "\n",
        "def normal_pdf(x, mean, std_dev):\n",
        "    \"\"\"\n",
        "    Calculate the probability density function (PDF) of a normal distribution.\n",
        "\n",
        "    Args:\n",
        "        x (float): The point at which to evaluate the PDF.\n",
        "        mean (float): The mean of the normal distribution.\n",
        "        std_dev (float): The standard deviation of the normal distribution.\n",
        "\n",
        "    Returns:\n",
        "        float: The PDF value at the given point.\n",
        "    \"\"\"\n",
        "    coefficient = 1.0 / (std_dev * math.sqrt(2 * math.pi))\n",
        "    exponent = -((x - mean) ** 2) / (2 * std_dev ** 2)\n",
        "    pdf_value = coefficient * math.exp(exponent)\n",
        "    return pdf_value\n",
        "\n",
        "# Example usage\n",
        "mean = 0.0\n",
        "std_dev = 1.0\n",
        "point = 0.5\n",
        "pdf_at_point = normal_pdf(point, mean, std_dev)\n",
        "print(f\"PDF at {point} = {pdf_at_point}\")"
      ],
      "metadata": {
        "colab": {
          "base_uri": "https://localhost:8080/"
        },
        "id": "_DxI1gafNlSJ",
        "outputId": "96470636-90fa-404f-f142-e69afd086fda"
      },
      "execution_count": 4,
      "outputs": [
        {
          "output_type": "stream",
          "name": "stdout",
          "text": [
            "PDF at 0.5 = 0.3520653267642995\n"
          ]
        }
      ]
    },
    {
      "cell_type": "markdown",
      "source": [
        "#**Q4. What are the properties of Binomial distribution? Give two examples of events where binomial distribution can be applied.**"
      ],
      "metadata": {
        "id": "4DazUXjtSRNw"
      }
    },
    {
      "cell_type": "markdown",
      "source": [
        "\n",
        "Certainly! Here are the key properties of the binomial distribution and two examples of events where it can be applied, without using formulas:\n",
        "\n",
        "Properties of the Binomial Distribution:\n",
        "\n",
        "Fixed Number of Trials: The binomial distribution is used when you have a fixed number of independent trials or experiments.\n",
        "\n",
        "Two Possible Outcomes: Each trial has two possible outcomes, often referred to as \"success\" and \"failure.\"\n",
        "\n",
        "Constant Probability: The probability of success remains the same for each trial.\n",
        "\n",
        "Discrete Distribution: The binomial distribution deals with whole numbers and is used to count the number of successes.\n",
        "\n",
        "Independent Trials: The outcome of one trial does not influence the outcome of another trial.\n",
        "\n",
        "Examples of Events:\n",
        "\n",
        "Coin Flips: Imagine flipping a coin multiple times. Each flip is an independent trial, and the outcomes (heads or tails) are considered successes or failures. The binomial distribution can help calculate the probability of getting a certain number of heads (or tails) in a fixed number of coin flips.\n",
        "\n",
        "Quality Control: In manufacturing, you might be interested in the number of defective items in a batch of products. Each item is inspected independently, and it can be either defective (failure) or non-defective (success). By applying the binomial distribution, you can determine the likelihood of finding a specific number of defective items in the batch.\n",
        "\n",
        "Remember, the binomial distribution is useful whenever you have a situation involving a fixed number of trials, two possible outcomes per trial, a constant probability of success, and independence between trials."
      ],
      "metadata": {
        "id": "-rFtOlp1OaEl"
      }
    },
    {
      "cell_type": "markdown",
      "source": [
        "# **Q5. Generate a random sample of size 1000 from a binomial distribution with probability of success 0.4 and plot a histogram of the results using matplotlib.**"
      ],
      "metadata": {
        "id": "cbNB4WwxSgv6"
      }
    },
    {
      "cell_type": "code",
      "source": [
        "import numpy as np\n",
        "import matplotlib.pyplot as plt\n",
        "\n",
        "# Parameters\n",
        "sample_size = 1000\n",
        "probability_of_success = 0.4\n",
        "num_trials = 1  # Since we are generating a single sample of size 1000\n",
        "\n",
        "# Generate random sample from binomial distribution\n",
        "random_sample = np.random.binomial(num_trials, probability_of_success, size=sample_size)\n",
        "\n",
        "# Plot histogram\n",
        "plt.hist(random_sample, bins=np.arange(-0.5, num_trials+1.5, 1), alpha=0.7, rwidth=0.8)\n",
        "plt.xlabel(\"Number of Successes\")\n",
        "plt.ylabel(\"Frequency\")\n",
        "plt.title(f\"Histogram of Binomial Distribution (n={num_trials}, p={probability_of_success})\")\n",
        "plt.xticks(np.arange(0, num_trials+1, 1))\n",
        "plt.grid(True)\n",
        "plt.show()\n"
      ],
      "metadata": {
        "colab": {
          "base_uri": "https://localhost:8080/",
          "height": 472
        },
        "id": "2nt915v_N5q9",
        "outputId": "0e38a3cd-6454-426f-aaa6-c012d458b2e4"
      },
      "execution_count": 5,
      "outputs": [
        {
          "output_type": "display_data",
          "data": {
            "text/plain": [
              "<Figure size 640x480 with 1 Axes>"
            ],
            "image/png": "[encoded data removed]"
          },
          "metadata": {}
        }
      ]
    },
    {
      "cell_type": "markdown",
      "source": [
        "# **Q6. Write a Python function to calculate the cumulative distribution function of a Poisson distribution with given mean at a given point.**"
      ],
      "metadata": {
        "id": "PzkMfJq3T4qG"
      }
    },
    {
      "cell_type": "code",
      "source": [
        "import math\n",
        "\n",
        "def poisson_cdf(x, mean):\n",
        "    \"\"\"\n",
        "    Calculate the cumulative distribution function (CDF) of a Poisson distribution.\n",
        "\n",
        "    Args:\n",
        "        x (int): The point at which to evaluate the CDF.\n",
        "        mean (float): The mean of the Poisson distribution.\n",
        "\n",
        "    Returns:\n",
        "        float: The CDF value at the given point.\n",
        "    \"\"\"\n",
        "    cdf_value = 0.0\n",
        "    for k in range(0, x + 1):\n",
        "        cdf_value += (math.exp(-mean) * mean ** k) / math.factorial(k)\n",
        "    return cdf_value\n",
        "\n",
        "# Example usage\n",
        "mean = 2.5\n",
        "point = 4\n",
        "cdf_at_point = poisson_cdf(point, mean)\n",
        "print(f\"CDF at {point} = {cdf_at_point}\")"
      ],
      "metadata": {
        "colab": {
          "base_uri": "https://localhost:8080/"
        },
        "id": "88BEpxATUEqt",
        "outputId": "8717f4c5-d81f-4dff-da61-2f5b615851e8"
      },
      "execution_count": 6,
      "outputs": [
        {
          "output_type": "stream",
          "name": "stdout",
          "text": [
            "CDF at 4 = 0.8911780189141512\n"
          ]
        }
      ]
    },
    {
      "cell_type": "markdown",
      "source": [
        "#**Q7. How Binomial distribution different from Poisson distribution?**"
      ],
      "metadata": {
        "id": "YofxXnXbTud9"
      }
    },
    {
      "cell_type": "markdown",
      "source": [
        "\n",
        "The Binomial distribution and the Poisson distribution are both discrete probability distributions, but they are used to model different types of scenarios and have distinct characteristics. Here are the key differences between the two:\n",
        "\n",
        "Nature of Events:\n",
        "\n",
        "Binomial Distribution: The Binomial distribution is used to model the number of successes in a fixed number of independent Bernoulli trials, where each trial can have only two outcomes (success or failure). The trials are assumed to be independent and have a constant probability of success.\n",
        "Poisson Distribution: The Poisson distribution is used to model the number of events occurring in a fixed interval of time or space, where the events are rare and random. It is often used when events happen independently at a constant average rate.\n",
        "Number of Trials/Events:\n",
        "\n",
        "Binomial Distribution: The Binomial distribution is concerned with a fixed number of trials or events (denoted as \"n\").\n",
        "Poisson Distribution: The Poisson distribution is concerned with counting the occurrences of rare events in a fixed interval.\n",
        "Outcomes:\n",
        "\n",
        "Binomial Distribution: The outcomes in a Binomial distribution are discrete and binary (success or failure).\n",
        "Poisson Distribution: The outcomes in a Poisson distribution are discrete and represent the counts of events.\n",
        "Parameterization:\n",
        "\n",
        "Binomial Distribution: The Binomial distribution is parameterized by two values: the number of trials (\"n\") and the probability of success on each trial (\"p\").\n",
        "Poisson Distribution: The Poisson distribution is parameterized by a single value: the average rate of event occurrences (\"λ\").\n",
        "Conditions:\n",
        "\n",
        "Binomial Distribution: The Binomial distribution assumes a fixed number of trials, independent and identically distributed trials, and a constant probability of success.\n",
        "Poisson Distribution: The Poisson distribution assumes rare and independent events occurring in a fixed interval, with no two events occurring simultaneously.\n",
        "Approximation:\n",
        "\n",
        "The Poisson distribution can be used to approximate the Binomial distribution under certain conditions. When the number of trials is large and the probability of success is small, the Binomial distribution becomes similar to the Poisson distribution with the mean equal to\n",
        "�\n",
        "×\n",
        "�\n",
        "n×p.\n",
        "In summary, the Binomial distribution deals with the number of successes in a fixed number of trials with binary outcomes, while the Poisson distribution deals with the number of rare events occurring in a fixed interval with a constant average rate."
      ],
      "metadata": {
        "id": "d0xBjfDiUY4w"
      }
    },
    {
      "cell_type": "markdown",
      "source": [
        "#**Q8. Generate a random sample of size 1000 from a Poisson distribution with mean 5 and calculate the sample mean and variance.**"
      ],
      "metadata": {
        "id": "ZgrOH8PCUc2_"
      }
    },
    {
      "cell_type": "code",
      "source": [
        "import numpy as np\n",
        "\n",
        "# Parameters\n",
        "sample_size = 1000\n",
        "mean = 5\n",
        "\n",
        "# Generate random sample from Poisson distribution\n",
        "random_sample = np.random.poisson(mean, size=sample_size)\n",
        "\n",
        "# Calculate sample mean and variance\n",
        "sample_mean = np.mean(random_sample)\n",
        "sample_variance = np.var(random_sample, ddof=1)  # Using ddof=1 for sample variance\n",
        "\n",
        "print(f\"Sample Mean: {sample_mean}\")\n",
        "print(f\"Sample Variance: {sample_variance}\")\n"
      ],
      "metadata": {
        "colab": {
          "base_uri": "https://localhost:8080/"
        },
        "id": "Iv2ZrEPZSp2o",
        "outputId": "1ac36ec8-a8ed-4734-f9e7-62de5bdc5ce3"
      },
      "execution_count": 7,
      "outputs": [
        {
          "output_type": "stream",
          "name": "stdout",
          "text": [
            "Sample Mean: 4.996\n",
            "Sample Variance: 5.081065065065064\n"
          ]
        }
      ]
    },
    {
      "cell_type": "markdown",
      "source": [
        "# **Q9. How mean and variance are related in Binomial distribution and Poisson distribution?**"
      ],
      "metadata": {
        "id": "R64tABRNVBQ7"
      }
    },
    {
      "cell_type": "markdown",
      "source": [
        "\n",
        "Certainly, here's an explanation of the relationship between mean and variance in the Binomial and Poisson distributions without using formulas:\n",
        "\n",
        "Binomial Distribution:\n",
        "In the Binomial distribution, the mean represents the average number of successes in a fixed number of trials, each with a certain probability of success. The variance, on the other hand, measures how much the actual outcomes vary from this mean. If the probability of success (\n",
        "�\n",
        "p) is close to 0.5, the variance tends to be higher since there is more variability in the outcomes. As\n",
        "�\n",
        "p moves towards either extreme (0 or 1), the variance decreases because the outcomes become more concentrated around either success or failure.\n",
        "\n",
        "Poisson Distribution:\n",
        "In the Poisson distribution, both the mean and the variance are equal and are determined by the average rate of event occurrences (\n",
        "�\n",
        "λ). This means that if the average rate of events happening is higher, both the mean and variance will be higher as well. Conversely, if the average rate is lower, both the mean and variance will be lower. The relationship between the mean and variance in the Poisson distribution is simpler and more straightforward compared to the Binomial distribution.\n",
        "\n",
        "In summary, in the Binomial distribution, the relationship between mean and variance is influenced by the probability of success, while in the Poisson distribution, the mean and variance are directly linked to the average rate of event occurrences."
      ],
      "metadata": {
        "id": "uthdfx8gVGYA"
      }
    },
    {
      "cell_type": "markdown",
      "source": [
        "# **Q10. In normal distribution with respect to mean position, where does the least frequent data appear?**"
      ],
      "metadata": {
        "id": "o93DpNWMVc4_"
      }
    },
    {
      "cell_type": "markdown",
      "source": [
        "\n",
        "In a normal distribution, the data is symmetrically distributed around the mean. This means that the data points are most densely clustered around the mean, and the farther you move away from the mean in either direction, the less frequent the data points become. The data points gradually decrease in frequency as you move away from the mean.\n",
        "\n",
        "So, the least frequent data points appear in the tails of the normal distribution, which are the regions farthest away from the mean. These tails extend infinitely in both directions, but as you move farther from the mean, the density of data points decreases, indicating that extreme values are less likely to occur."
      ],
      "metadata": {
        "id": "eKTDWvU-Vfz7"
      }
    }
  ]
}